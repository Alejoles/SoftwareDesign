{
 "cells": [
  {
   "cell_type": "code",
   "execution_count": 2,
   "id": "verbal-wallpaper",
   "metadata": {
    "tags": []
   },
   "outputs": [
    {
     "data": {
      "text/plain": [
       "True"
      ]
     },
     "execution_count": 2,
     "metadata": {},
     "output_type": "execute_result"
    }
   ],
   "source": [
    "# %load main.py\n",
    "lista_prueba = [True, True, True, False]\n",
    "\n",
    "any(lista_prueba)"
   ]
  },
  {
   "cell_type": "code",
   "execution_count": 3,
   "id": "weird-static",
   "metadata": {},
   "outputs": [
    {
     "data": {
      "text/plain": [
       "True"
      ]
     },
     "execution_count": 3,
     "metadata": {},
     "output_type": "execute_result"
    }
   ],
   "source": [
    "lista_prueba = [True, True, True, True]\n",
    "\n",
    "any(lista_prueba)"
   ]
  },
  {
   "cell_type": "code",
   "execution_count": 4,
   "id": "personalized-criticism",
   "metadata": {},
   "outputs": [
    {
     "data": {
      "text/plain": [
       "True"
      ]
     },
     "execution_count": 4,
     "metadata": {},
     "output_type": "execute_result"
    }
   ],
   "source": [
    "lista_prueba = [True, True, True, True]\n",
    "\n",
    "all(lista_prueba)"
   ]
  },
  {
   "cell_type": "code",
   "execution_count": null,
   "id": "generic-white",
   "metadata": {},
   "outputs": [],
   "source": [
    "lista_prueba = [True, True, True, False]\n",
    "\n",
    "all(lista_prueba)"
   ]
  },
  {
   "cell_type": "markdown",
   "id": "aware-account",
   "metadata": {},
   "source": [
    "## Verificar si hay algún elemento vacío en el diccionario con any y all"
   ]
  },
  {
   "cell_type": "code",
   "execution_count": 6,
   "id": "sitting-filter",
   "metadata": {},
   "outputs": [
    {
     "data": {
      "text/plain": [
       "False"
      ]
     },
     "execution_count": 6,
     "metadata": {},
     "output_type": "execute_result"
    }
   ],
   "source": [
    "diccionario_prueba = {\"\":23, \"\":43}\n",
    "any(diccionario_prueba)"
   ]
  },
  {
   "cell_type": "code",
   "execution_count": 7,
   "id": "noble-authority",
   "metadata": {},
   "outputs": [
    {
     "data": {
      "text/plain": [
       "True"
      ]
     },
     "execution_count": 7,
     "metadata": {},
     "output_type": "execute_result"
    }
   ],
   "source": [
    "diccionario_prueba = {\"k1\":23, \"\":43}\n",
    "any(diccionario_prueba)"
   ]
  },
  {
   "cell_type": "code",
   "execution_count": 8,
   "id": "adequate-sector",
   "metadata": {},
   "outputs": [
    {
     "data": {
      "text/plain": [
       "False"
      ]
     },
     "execution_count": 8,
     "metadata": {},
     "output_type": "execute_result"
    }
   ],
   "source": [
    "diccionario_prueba = {\"k1\":23, \"\":43}\n",
    "all(diccionario_prueba)"
   ]
  },
  {
   "cell_type": "markdown",
   "id": "freelance-inspector",
   "metadata": {},
   "source": [
    "## Usando howdoi"
   ]
  },
  {
   "cell_type": "code",
   "execution_count": 1,
   "id": "progressive-adventure",
   "metadata": {},
   "outputs": [
    {
     "name": "stdout",
     "output_type": "stream",
     "text": [
      "/bin/bash: /home/alejandro/Desarrollo de Software/Laboratorio8/venv/bin/howdoi: \"/home/alejandro/Desarrollo: intérprete erróneo: No existe el archivo o el directorio\n"
     ]
    }
   ],
   "source": [
    "!howdoi any in python"
   ]
  },
  {
   "cell_type": "code",
   "execution_count": null,
   "id": "exceptional-approach",
   "metadata": {},
   "outputs": [],
   "source": [
    "lista_1 = list()\n",
    "lista_2 = []"
   ]
  },
  {
   "cell_type": "code",
   "execution_count": 2,
   "id": "demanding-frontier",
   "metadata": {},
   "outputs": [],
   "source": [
    "scores = [23, 43, 45, 67]\n",
    "clientes = [\"pacho\", \"pepe\", \"maria\"]"
   ]
  },
  {
   "cell_type": "code",
   "execution_count": 3,
   "id": "atomic-galaxy",
   "metadata": {},
   "outputs": [
    {
     "data": {
      "text/plain": [
       "{23: 'pacho', 43: 'pepe', 45: 'maria'}"
      ]
     },
     "execution_count": 3,
     "metadata": {},
     "output_type": "execute_result"
    }
   ],
   "source": [
    "dict(zip(scores, clientes))"
   ]
  },
  {
   "cell_type": "code",
   "execution_count": 4,
   "id": "lasting-brisbane",
   "metadata": {},
   "outputs": [
    {
     "name": "stdout",
     "output_type": "stream",
     "text": [
      "Collecting memory-profiler\n",
      "  Downloading memory_profiler-0.58.0.tar.gz (36 kB)\n",
      "Collecting psutil\n",
      "  Using cached psutil-5.8.0-cp38-cp38-manylinux2010_x86_64.whl (296 kB)\n",
      "Using legacy 'setup.py install' for memory-profiler, since package 'wheel' is not installed.\n",
      "Installing collected packages: psutil, memory-profiler\n",
      "    Running setup.py install for memory-profiler ... \u001b[?25ldone\n",
      "\u001b[?25hSuccessfully installed memory-profiler-0.58.0 psutil-5.8.0\n"
     ]
    }
   ],
   "source": [
    "!pip install memory-profiler"
   ]
  },
  {
   "cell_type": "code",
   "execution_count": 7,
   "id": "legislative-bulgaria",
   "metadata": {},
   "outputs": [
    {
     "data": {
      "text/plain": [
       "120"
      ]
     },
     "execution_count": 7,
     "metadata": {},
     "output_type": "execute_result"
    }
   ],
   "source": [
    "import sys\n",
    "mi_lista = [1, 2, 3, 4, 5, 6, 7, 8]\n",
    "sys.getsizeof(mi_lista)"
   ]
  },
  {
   "cell_type": "code",
   "execution_count": 8,
   "id": "synthetic-portable",
   "metadata": {},
   "outputs": [
    {
     "data": {
      "text/plain": [
       "48"
      ]
     },
     "execution_count": 8,
     "metadata": {},
     "output_type": "execute_result"
    }
   ],
   "source": [
    "sys.getsizeof(range(0, 111000000000000000000000000000000000))"
   ]
  },
  {
   "cell_type": "code",
   "execution_count": 9,
   "id": "increasing-retail",
   "metadata": {},
   "outputs": [
    {
     "data": {
      "text/plain": [
       "['__bool__',\n",
       " '__class__',\n",
       " '__contains__',\n",
       " '__delattr__',\n",
       " '__dir__',\n",
       " '__doc__',\n",
       " '__eq__',\n",
       " '__format__',\n",
       " '__ge__',\n",
       " '__getattribute__',\n",
       " '__getitem__',\n",
       " '__gt__',\n",
       " '__hash__',\n",
       " '__init__',\n",
       " '__init_subclass__',\n",
       " '__iter__',\n",
       " '__le__',\n",
       " '__len__',\n",
       " '__lt__',\n",
       " '__ne__',\n",
       " '__new__',\n",
       " '__reduce__',\n",
       " '__reduce_ex__',\n",
       " '__repr__',\n",
       " '__reversed__',\n",
       " '__setattr__',\n",
       " '__sizeof__',\n",
       " '__str__',\n",
       " '__subclasshook__',\n",
       " 'count',\n",
       " 'index',\n",
       " 'start',\n",
       " 'step',\n",
       " 'stop']"
      ]
     },
     "execution_count": 9,
     "metadata": {},
     "output_type": "execute_result"
    }
   ],
   "source": [
    "dir(range)"
   ]
  },
  {
   "cell_type": "code",
   "execution_count": 23,
   "id": "early-maria",
   "metadata": {},
   "outputs": [],
   "source": [
    "def bad():\n",
    "    mi_lista = []\n",
    "    for item in range(10000000):\n",
    "        mi_lista.append(item)\n"
   ]
  },
  {
   "cell_type": "code",
   "execution_count": 26,
   "id": "sacred-blues",
   "metadata": {},
   "outputs": [],
   "source": [
    "def is_ok():\n",
    "    for item in range(10000000):\n",
    "        yield item"
   ]
  },
  {
   "cell_type": "code",
   "execution_count": 21,
   "id": "interpreted-vienna",
   "metadata": {},
   "outputs": [],
   "source": [
    "import memory_profiler\n",
    "import time"
   ]
  },
  {
   "cell_type": "code",
   "execution_count": 25,
   "id": "modern-charles",
   "metadata": {},
   "outputs": [
    {
     "name": "stdout",
     "output_type": "stream",
     "text": [
      "0.6749405860900879   [86.59375]\n"
     ]
    }
   ],
   "source": [
    "\n",
    "\n",
    "\n",
    "time_1 = time.time()\n",
    "bad()\n",
    "time_2 = time.time()\n",
    "memory = memory_profiler.memory_usage()\n",
    "\n",
    "print(time_2-time_1, \" \", memory)\n",
    "\n"
   ]
  },
  {
   "cell_type": "code",
   "execution_count": 29,
   "id": "precious-recipe",
   "metadata": {},
   "outputs": [
    {
     "name": "stdout",
     "output_type": "stream",
     "text": [
      "<method-wrapper '__next__' of generator object at 0x7f2bf0fc4eb0>\n",
      "<generator object is_ok at 0x7f2bf0fc4eb0>\n"
     ]
    }
   ],
   "source": [
    "datos = is_ok()\n",
    "print(datos.__next__)\n",
    "print(datos)"
   ]
  },
  {
   "cell_type": "markdown",
   "id": "viral-artist",
   "metadata": {},
   "source": [
    "# Transponer una matriz"
   ]
  },
  {
   "cell_type": "code",
   "execution_count": 33,
   "id": "reported-marathon",
   "metadata": {},
   "outputs": [],
   "source": [
    "matriz = [[1,2,3],[3,4,5]]"
   ]
  },
  {
   "cell_type": "code",
   "execution_count": 39,
   "id": "aerial-acceptance",
   "metadata": {},
   "outputs": [
    {
     "data": {
      "text/plain": [
       "[(1, 3), (2, 4), (3, 5)]"
      ]
     },
     "execution_count": 39,
     "metadata": {},
     "output_type": "execute_result"
    }
   ],
   "source": [
    "list(zip(*matriz))"
   ]
  },
  {
   "cell_type": "code",
   "execution_count": 40,
   "id": "premier-indianapolis",
   "metadata": {},
   "outputs": [
    {
     "name": "stdout",
     "output_type": "stream",
     "text": [
      "<map object at 0x7f2bf2196220>\n"
     ]
    }
   ],
   "source": [
    "map(list, zip(*matriz))"
   ]
  },
  {
   "cell_type": "code",
   "execution_count": 37,
   "id": "dominican-perception",
   "metadata": {},
   "outputs": [
    {
     "name": "stdout",
     "output_type": "stream",
     "text": [
      "[1, 3]\n",
      "[2, 4]\n",
      "[3, 5]\n"
     ]
    }
   ],
   "source": [
    "for item in map(list, zip(*matriz)):\n",
    "    print(item)"
   ]
  },
  {
   "cell_type": "code",
   "execution_count": null,
   "id": "tight-conservation",
   "metadata": {},
   "outputs": [],
   "source": []
  },
  {
   "cell_type": "code",
   "execution_count": 41,
   "id": "separate-doctrine",
   "metadata": {},
   "outputs": [
    {
     "name": "stdout",
     "output_type": "stream",
     "text": [
      "Collecting tqdm\n",
      "  Downloading tqdm-4.59.0-py2.py3-none-any.whl (74 kB)\n",
      "\u001b[K     |████████████████████████████████| 74 kB 4.4 MB/s  eta 0:00:01\n",
      "\u001b[?25hInstalling collected packages: tqdm\n",
      "Successfully installed tqdm-4.59.0\n"
     ]
    }
   ],
   "source": [
    "!pip install tqdm"
   ]
  },
  {
   "cell_type": "code",
   "execution_count": 43,
   "id": "rough-sending",
   "metadata": {},
   "outputs": [],
   "source": [
    "from tqdm import tqdm"
   ]
  },
  {
   "cell_type": "code",
   "execution_count": 44,
   "id": "palestinian-concord",
   "metadata": {},
   "outputs": [
    {
     "name": "stderr",
     "output_type": "stream",
     "text": [
      "procesando...: 100%|██████████| 100/100 [00:00<00:00, 477711.16it/s]\n"
     ]
    }
   ],
   "source": [
    "for item in tqdm(range(100), \"procesando...\"):\n",
    "    item"
   ]
  },
  {
   "cell_type": "markdown",
   "id": "engaged-novel",
   "metadata": {},
   "source": [
    "# Empezamos con los loggers para registrar errores"
   ]
  },
  {
   "cell_type": "code",
   "execution_count": 45,
   "id": "parental-outreach",
   "metadata": {},
   "outputs": [],
   "source": [
    "import logging"
   ]
  },
  {
   "cell_type": "code",
   "execution_count": 46,
   "id": "understood-milton",
   "metadata": {},
   "outputs": [
    {
     "name": "stderr",
     "output_type": "stream",
     "text": [
      "ERROR:root:un error\n"
     ]
    }
   ],
   "source": [
    "logging.error(\"un error\")"
   ]
  },
  {
   "cell_type": "code",
   "execution_count": 47,
   "id": "faced-catch",
   "metadata": {},
   "outputs": [
    {
     "name": "stderr",
     "output_type": "stream",
     "text": [
      "CRITICAL:root:un error\n"
     ]
    }
   ],
   "source": [
    "logging.critical(\"un error\")"
   ]
  },
  {
   "cell_type": "code",
   "execution_count": null,
   "id": "close-coupon",
   "metadata": {},
   "outputs": [],
   "source": []
  },
  {
   "cell_type": "code",
   "execution_count": 48,
   "id": "skilled-resident",
   "metadata": {},
   "outputs": [],
   "source": [
    "logger = logging.getLogger(\"app\")\n",
    "handler_log = logging.FileHandler(\"debug.log\")\n",
    "logger.addHandler(handler_log)"
   ]
  },
  {
   "cell_type": "code",
   "execution_count": 50,
   "id": "innocent-latex",
   "metadata": {},
   "outputs": [
    {
     "name": "stderr",
     "output_type": "stream",
     "text": [
      "ERROR:app:Quién, cómo, cúando, dónde y por qué\n"
     ]
    }
   ],
   "source": [
    "logger.error(\"Quién, cómo, cúando, dónde y por qué\")"
   ]
  }
 ],
 "metadata": {
  "kernelspec": {
   "display_name": "Python 3",
   "language": "python",
   "name": "python3"
  },
  "language_info": {
   "codemirror_mode": {
    "name": "ipython",
    "version": 3
   },
   "file_extension": ".py",
   "mimetype": "text/x-python",
   "name": "python",
   "nbconvert_exporter": "python",
   "pygments_lexer": "ipython3",
   "version": "3.8.5"
  }
 },
 "nbformat": 4,
 "nbformat_minor": 5
}
