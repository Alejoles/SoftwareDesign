{
 "cells": [
  {
   "cell_type": "code",
   "execution_count": 3,
   "id": "ae14a80d-072c-49d4-a59c-bf2de855a03c",
   "metadata": {},
   "outputs": [],
   "source": [
    "import boto3"
   ]
  },
  {
   "cell_type": "code",
   "execution_count": 4,
   "id": "324ef2af-b0fe-4d43-9e02-780174c37e5e",
   "metadata": {},
   "outputs": [],
   "source": [
    "client = boto3.client('sns')"
   ]
  },
  {
   "cell_type": "code",
   "execution_count": 5,
   "id": "1d3b2b1c-1eff-46ce-925a-69f93c2e85a2",
   "metadata": {},
   "outputs": [
    {
     "data": {
      "text/plain": [
       "<botocore.client.SNS at 0x7fc57d93a340>"
      ]
     },
     "execution_count": 5,
     "metadata": {},
     "output_type": "execute_result"
    }
   ],
   "source": [
    "client"
   ]
  },
  {
   "cell_type": "code",
   "execution_count": 6,
   "id": "de10c68b-5117-4e2e-babe-1aceea2f71f0",
   "metadata": {},
   "outputs": [],
   "source": [
    "TOPIC_ARN = \"\""
   ]
  },
  {
   "cell_type": "code",
   "execution_count": null,
   "id": "5b71bb62-57ce-4935-8099-fe0a497ba122",
   "metadata": {},
   "outputs": [],
   "source": [
    "LISTENER = \"\""
   ]
  }
 ],
 "metadata": {
  "kernelspec": {
   "display_name": "Python 3",
   "language": "python",
   "name": "python3"
  },
  "language_info": {
   "codemirror_mode": {
    "name": "ipython",
    "version": 3
   },
   "file_extension": ".py",
   "mimetype": "text/x-python",
   "name": "python",
   "nbconvert_exporter": "python",
   "pygments_lexer": "ipython3",
   "version": "3.8.5"
  }
 },
 "nbformat": 4,
 "nbformat_minor": 5
}
